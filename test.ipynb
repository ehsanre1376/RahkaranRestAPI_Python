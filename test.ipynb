{
 "cells": [
  {
   "cell_type": "code",
   "execution_count": 5,
   "metadata": {},
   "outputs": [
    {
     "name": "stdout",
     "output_type": "stream",
     "text": [
      "Temporary file created at C:\\Users\\EHSANR~1\\AppData\\Local\\Temp\\ehsanre.txt\n"
     ]
    }
   ],
   "source": [
    "import tempfile\n",
    "import os\n",
    "\n",
    "# Define the variables\n",
    "x = 'This is the first line'\n",
    "y = 'This is the second line'\n",
    "\n",
    "# Create a temporary file with a specific name\n",
    "temp_dir = tempfile.gettempdir()\n",
    "file_name = os.path.join(temp_dir, 'ehsanre.txt')\n",
    "\n",
    "# Write to the temporary file\n",
    "with open(file_name, 'w') as f:\n",
    "    f.write(x + '\\n')\n",
    "    f.write(y + '\\n')\n",
    "\n",
    "print(f'Temporary file created at {file_name}')"
   ]
  }
 ],
 "metadata": {
  "kernelspec": {
   "display_name": "base",
   "language": "python",
   "name": "python3"
  },
  "language_info": {
   "codemirror_mode": {
    "name": "ipython",
    "version": 3
   },
   "file_extension": ".py",
   "mimetype": "text/x-python",
   "name": "python",
   "nbconvert_exporter": "python",
   "pygments_lexer": "ipython3",
   "version": "3.10.9"
  }
 },
 "nbformat": 4,
 "nbformat_minor": 2
}
