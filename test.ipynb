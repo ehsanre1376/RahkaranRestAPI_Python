{
 "cells": [
  {
   "cell_type": "code",
   "execution_count": null,
   "metadata": {
    "dotnet_interactive": {
     "language": "csharp"
    },
    "polyglot_notebook": {
     "kernelName": "csharp"
    },
    "vscode": {
     "languageId": "polyglot-notebook"
    }
   },
   "outputs": [],
   "source": [
    "import tempfile\n",
    "import os\n",
    "\n",
    "# Define the variables\n",
    "x = 'This is the first line'\n",
    "y = 'This is the second line'\n",
    "\n",
    "# Create a temporary file with a specific name\n",
    "temp_dir = tempfile.gettempdir()\n",
    "file_name = os.path.join(temp_dir, 'ehsanre.txt')\n",
    "\n",
    "# Write to the temporary file\n",
    "with open(file_name, 'w') as f:\n",
    "    f.write(x + '\\n')\n",
    "    f.write(y + '\\n')\n",
    "\n",
    "print(f'Temporary file created at {file_name}')"
   ]
  }
 ],
 "metadata": {
  "language_info": {
   "name": "python"
  }
 },
 "nbformat": 4,
 "nbformat_minor": 2
}
