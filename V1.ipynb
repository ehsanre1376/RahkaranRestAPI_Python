{
 "cells": [
  {
   "cell_type": "code",
   "execution_count": 3,
   "id": "37a1ac32",
   "metadata": {},
   "outputs": [
    {
     "ename": "ModuleNotFoundError",
     "evalue": "No module named 'rsa'",
     "output_type": "error",
     "traceback": [
      "\u001b[1;31m---------------------------------------------------------------------------\u001b[0m",
      "\u001b[1;31mModuleNotFoundError\u001b[0m                       Traceback (most recent call last)",
      "Cell \u001b[1;32mIn[3], line 2\u001b[0m\n\u001b[0;32m      1\u001b[0m \u001b[38;5;28;01mimport\u001b[39;00m \u001b[38;5;21;01mrequests\u001b[39;00m\n\u001b[1;32m----> 2\u001b[0m \u001b[38;5;28;01mimport\u001b[39;00m \u001b[38;5;21;01mrsa\u001b[39;00m\n\u001b[0;32m      3\u001b[0m \u001b[38;5;28;01mimport\u001b[39;00m \u001b[38;5;21;01mjson\u001b[39;00m\n\u001b[0;32m      4\u001b[0m \u001b[38;5;28;01mimport\u001b[39;00m \u001b[38;5;21;01mbinascii\u001b[39;00m\n",
      "\u001b[1;31mModuleNotFoundError\u001b[0m: No module named 'rsa'"
     ]
    }
   ],
   "source": [
    "import requests\n",
    "import rsa\n",
    "import json\n",
    "import binascii\n",
    "\n",
    "def hex_string_to_bytes(hex_string):\n",
    "    return binascii.unhexlify(hex_string)\n",
    "\n",
    "def bytes_to_hex_string(byte_array):\n",
    "    return binascii.hexlify(byte_array).decode()\n",
    "\n",
    "def login(user_name, password):\n",
    "    url = \"http://127.0.0.1/PortfolioDEV/Services/Framework/AuthenticationService.svc\"\n",
    "    session_url = url + \"/session\"\n",
    "    login_url = url + \"/login\"\n",
    "\n",
    "    response = requests.get(session_url)\n",
    "    if response.status_code != 200:\n",
    "        raise Exception('GET /session {}'.format(response.status_code))\n",
    "    session = json.loads(response.text)\n",
    "    m = hex_string_to_bytes(session['rsa']['M'])\n",
    "    e = hex_string_to_bytes(session['rsa']['E'])\n",
    "    rsa_key = rsa.PublicKey(int.from_bytes(m, byteorder='big'), int.from_bytes(e, byteorder='big'))\n",
    "    session_plus_password = session['id'] + \"**\" + password\n",
    "    encrypted_password = rsa.encrypt(session_plus_password.encode(), rsa_key)\n",
    "    headers = {'content-Type': 'application/json'}\n",
    "    data = {\n",
    "        'sessionId': session['id'],\n",
    "        'username': user_name,\n",
    "        'password': bytes_to_hex_string(encrypted_password)\n",
    "    }\n",
    "    response = requests.post(login_url, headers=headers, data=json.dumps(data))\n",
    "    if response.status_code != 200:\n",
    "        raise Exception('POST /login {}'.format(response.status_code))\n",
    "    auth_cookie = response.headers['Set-Cookie'].split(',')[1]\n",
    "    return session['id'], auth_cookie\n"
   ]
  },
  {
   "cell_type": "code",
   "execution_count": 8,
   "id": "370c7e6b",
   "metadata": {},
   "outputs": [
    {
     "name": "stdout",
     "output_type": "stream",
     "text": [
      "Session ID: f70258e533bc47c48fb8ed180b94d55a\n",
      "Auth Cookie:  04-Nov-2023 07:41:45 GMT; path=/; HttpOnly\n"
     ]
    }
   ],
   "source": [
    "session_id, auth_cookie = login('admin', 'admin')\n",
    "print('Session ID:', session_id)\n",
    "print('Auth Cookie:', auth_cookie)\n",
    "\n"
   ]
  },
  {
   "cell_type": "code",
   "execution_count": null,
   "id": "ba1e48a7",
   "metadata": {},
   "outputs": [],
   "source": []
  }
 ],
 "metadata": {
  "kernelspec": {
   "display_name": "Python 3 (ipykernel)",
   "language": "python",
   "name": "python3"
  },
  "language_info": {
   "codemirror_mode": {
    "name": "ipython",
    "version": 3
   },
   "file_extension": ".py",
   "mimetype": "text/x-python",
   "name": "python",
   "nbconvert_exporter": "python",
   "pygments_lexer": "ipython3",
   "version": "3.10.9"
  }
 },
 "nbformat": 4,
 "nbformat_minor": 5
}
