{
 "cells": [
  {
   "cell_type": "code",
   "execution_count": 17,
   "id": "37a1ac32",
   "metadata": {},
   "outputs": [],
   "source": [
    "import requests\n",
    "import rsa\n",
    "import json\n",
    "import binascii\n",
    "BaseURL = \"http://127.0.0.1/PortfolioDEV\"\n",
    "UserName =\"admin\"\n",
    "Password = \"admin\"\n",
    "def hex_string_to_bytes(hex_string):\n",
    "    return binascii.unhexlify(hex_string)\n",
    "\n",
    "def bytes_to_hex_string(byte_array):\n",
    "    return binascii.hexlify(byte_array).decode()\n",
    "\n",
    "def login(user_name = 'admin', password='admin'):\n",
    "    url = BaseURL+\"/Services/Framework/AuthenticationService.svc\"\n",
    "    session_url = url + \"/session\"\n",
    "    login_url = url + \"/login\"\n",
    "\n",
    "    response = requests.get(session_url)\n",
    "    if response.status_code != 200:\n",
    "        raise Exception('GET /session {}'.format(response.status_code))\n",
    "    session = json.loads(response.text)\n",
    "    m = hex_string_to_bytes(session['rsa']['M'])\n",
    "    e = hex_string_to_bytes(session['rsa']['E'])\n",
    "    rsa_key = rsa.PublicKey(int.from_bytes(m, byteorder='big'), int.from_bytes(e, byteorder='big'))\n",
    "    session_plus_password = session['id'] + \"**\" + password\n",
    "    encrypted_password = rsa.encrypt(session_plus_password.encode(), rsa_key)\n",
    "    headers = {'content-Type': 'application/json'}\n",
    "    data = {\n",
    "        'sessionId': session['id'],\n",
    "        'username': user_name,\n",
    "        'password': bytes_to_hex_string(encrypted_password)\n",
    "    }\n",
    "    response = requests.post(login_url, headers=headers, data=json.dumps(data))\n",
    "    if response.status_code != 200:\n",
    "        raise Exception('POST /login {}'.format(response.status_code))\n",
    "    session = response.headers['Set-Cookie'].split(',')[2].split(';')[0].strip()\n",
    "    return session\n",
    "session = login()"
   ]
  },
  {
   "cell_type": "code",
   "execution_count": 18,
   "id": "7d43a099",
   "metadata": {},
   "outputs": [
    {
     "name": "stdout",
     "output_type": "stream",
     "text": [
      "[{'ID': 1, 'IsActive': True, 'Name': 'سیبر', 'Name_En': '', 'Number': '1', 'Type': 2}]\n"
     ]
    }
   ],
   "source": [
    "#\"\"\"\n",
    "\n",
    "def get_all_cost_centers(session):\n",
    "    url = BaseURL+\"/General/CostCenterManagement/Services/CostCenterService.svc/GetAllCostCenters\"\n",
    "    headers = {\n",
    "        'Cookie': session,\n",
    "        'content-Type': 'application/json'\n",
    "    }\n",
    "    response = requests.get(url, headers=headers)\n",
    "    if response.status_code != 200:\n",
    "        raise Exception('GET /GetAllCostCenters {}'.format(response.status_code))\n",
    "    return response.json()\n",
    "\n",
    "# Use the session_id and auth_cookie from the login function\n",
    "cost_centers = get_all_cost_centers(session)\n",
    "print(cost_centers)\n",
    "\n",
    "#\"\"\"\n"
   ]
  },
  {
   "cell_type": "code",
   "execution_count": 14,
   "id": "b4a22915",
   "metadata": {},
   "outputs": [
    {
     "name": "stdout",
     "output_type": "stream",
     "text": [
      "{\"OutBoolean\":true}\n"
     ]
    }
   ],
   "source": [
    "#\"\"\"\n",
    "\n",
    "def ERA_Update(session,data):\n",
    "    url = BaseURL+\"/System/BusinessRuleEngine/Service.svc/call\"\n",
    "    headers = {\n",
    "        'Cookie': session,\n",
    "        'content-Type': 'application/json'\n",
    "    }\n",
    "    JsonData = {\n",
    "            \"Name\" : \"ERA_Web_Test\",\n",
    "            \"Parameters\": json.dumps(data)\n",
    "    }\n",
    "    response = requests.post(url, headers=headers, data=json.dumps(JsonData))\n",
    "    if response.status_code != 200:\n",
    "        raise Exception('GET /GetAllCostCenters {}'.format(response.status_code))\n",
    "    return response.json()\n",
    "\n",
    "# Use the session_id and auth_cookie from the login function\n",
    "ERA = ERA_Update(session,{\"InText\":\"ذزفکا\",\"InText1\":\"بر\",\"InValue\":1,\"OutBoolean\":\"null\"})\n",
    "print(ERA)\n",
    "\n",
    "#\"\"\"\n"
   ]
  },
  {
   "cell_type": "code",
   "execution_count": 29,
   "id": "aee35ea8",
   "metadata": {},
   "outputs": [],
   "source": [
    "import pandas as pd\n",
    "\n",
    "# create a sample DataFrame\n",
    "df = pd.DataFrame({\n",
    "    'InText': ['ذزفکا'],\n",
    "    'InText1': ['بر'],\n",
    "    'InValue': [1],\n",
    "    'OutBoolean' : ['null']\n",
    "})\n",
    "\n",
    "# convert each row of the DataFrame to a dictionary\n",
    "dict_list = [row.to_dict() for _, row in df.iterrows()]\n",
    "\n",
    "#Listdata =dict_list[0]\n"
   ]
  },
  {
   "cell_type": "code",
   "execution_count": 30,
   "id": "e353fd03",
   "metadata": {},
   "outputs": [
    {
     "name": "stdout",
     "output_type": "stream",
     "text": [
      "{\"OutBoolean\":true}\n"
     ]
    }
   ],
   "source": [
    "for data in dict_list :\n",
    "    def ERA_Update(session,data):\n",
    "        url = BaseURL+\"/System/BusinessRuleEngine/Service.svc/call\"\n",
    "        headers = {\n",
    "            'Cookie': session,\n",
    "            'content-Type': 'application/json'\n",
    "        }\n",
    "        JsonData = {\n",
    "                \"Name\" : \"ERA_Web_Test\",\n",
    "                \"Parameters\": json.dumps(data)\n",
    "        }\n",
    "        response = requests.post(url, headers=headers, data=json.dumps(JsonData))\n",
    "        if response.status_code != 200:\n",
    "            raise Exception('GET /GetAllCostCenters {}'.format(response.status_code))\n",
    "        return response.json()\n",
    "\n",
    "    # Use the session_id and auth_cookie from the login function\n",
    "    ERA = ERA_Update(session,data)\n",
    "    print(ERA)\n",
    "\n",
    "    #\"\"\"\n"
   ]
  },
  {
   "cell_type": "code",
   "execution_count": null,
   "id": "34626757",
   "metadata": {},
   "outputs": [],
   "source": []
  }
 ],
 "metadata": {
  "kernelspec": {
   "display_name": "Python 3 (ipykernel)",
   "language": "python",
   "name": "python3"
  },
  "language_info": {
   "codemirror_mode": {
    "name": "ipython",
    "version": 3
   },
   "file_extension": ".py",
   "mimetype": "text/x-python",
   "name": "python",
   "nbconvert_exporter": "python",
   "pygments_lexer": "ipython3",
   "version": "3.10.13"
  }
 },
 "nbformat": 4,
 "nbformat_minor": 5
}
